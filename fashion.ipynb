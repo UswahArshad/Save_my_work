{
 "cells": [
  {
   "cell_type": "code",
   "execution_count": null,
   "metadata": {},
   "outputs": [],
   "source": [
    "import matplotlib.pyplot as plt\n",
    "import numpy as np\n",
    "import pandas as pd\n",
    "import gdown\n",
    "from fastai.vision import *\n",
    "from fastai.metrics import accuracy, top_k_accuracy\n",
    "from annoy import AnnoyIndex\n",
    "import zipfile\n",
    "import time\n",
    "from google.colab import drive\n",
    "%matplotlib inline"
   ]
  }
 ],
 "metadata": {
  "language_info": {
   "name": "python"
  },
  "orig_nbformat": 4
 },
 "nbformat": 4,
 "nbformat_minor": 2
}
