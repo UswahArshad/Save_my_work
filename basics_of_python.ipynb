{
 "cells": [
  {
   "cell_type": "code",
   "execution_count": 4,
   "metadata": {},
   "outputs": [],
   "source": [
    "def alphabetize(original_list=[]):\n",
    " \"\"\" Pass any list in square brackets, displays a string with items \n",
    "  sorted \"\"\"\n",
    " # Inside the function make a working copy of the list passed in.\n",
    " sorted_list = original_list.copy()\n",
    " # Sort the working copy.\n",
    " sorted_list.sort()\n",
    " # Make a new empty string for output\n",
    " final_list = ''\n",
    " # Loop through sorted list and append name and comma and space.\n",
    " for name in sorted_list:\n",
    "     final_list += name + ', '\n",
    " # Knock of last comma space if final list is long enough\n",
    " final_list = final_list[:-2]\n",
    " # Print the alphabetized list.\n",
    " print(final_list)\n",
    "\n",
    " return sorted_list"
   ]
  },
  {
   "cell_type": "code",
   "execution_count": 5,
   "metadata": {},
   "outputs": [
    {
     "name": "stdout",
     "output_type": "stream",
     "text": [
      "\n",
      "[]\n"
     ]
    }
   ],
   "source": [
    "print(alphabetize(original_list=[]))"
   ]
  },
  {
   "cell_type": "code",
   "execution_count": 7,
   "metadata": {},
   "outputs": [
    {
     "name": "stdout",
     "output_type": "stream",
     "text": [
      "rebeeca joined on 041822\n"
     ]
    }
   ],
   "source": [
    "import datetime as dt\n",
    "# Define a new class name Member.\n",
    "class Member:\n",
    " \"\"\" Create a new member. \"\"\"\n",
    " def __init__(self, username, fullname):\n",
    "      # Define attributes and give them values.\n",
    "      self.username = username\n",
    "      self.fullname = fullname\n",
    "      # Default date_joined to today's date.\n",
    "      self.date_joined = dt.date.today()\n",
    "      # Set is active to True initially.\n",
    "      self.is_active = True\n",
    "\n",
    " def show_datejioned(self):\n",
    "     return f'{self.fullname} joined on {self.date_joined:%m%d%y}' \n",
    "\n",
    "new_guy = Member('Rambo','rebeeca')\n",
    "print(new_guy.show_datejioned())"
   ]
  },
  {
   "cell_type": "code",
   "execution_count": 8,
   "metadata": {},
   "outputs": [
    {
     "name": "stdout",
     "output_type": "stream",
     "text": [
      "Joe\n",
      "Mr\n",
      "2023-04-18\n"
     ]
    }
   ],
   "source": [
    "# creating a main class\n",
    "import datetime as dt\n",
    "# Class is used for all kinds of people.\n",
    "import datetime as dt\n",
    "# Base class is used for all kinds of Members.\n",
    "class Member:\n",
    " \"\"\" The Member class attributes and methods are for everyone \"\"\"\n",
    " # By default, a new account expires in one year (365 days)\n",
    " expiry_days = 365\n",
    " # Initialize a member object.\n",
    " def __init__(self, firstname, lastname):\n",
    " # Attributes (instance variables) for everybody.\n",
    "    self.firstname = firstname\n",
    "    self.lastname = lastname\n",
    " # Calculate expiry date from today's date.\n",
    "    self.expiry_date = dt.date.today() + dt.timedelta(days=self.expiry_days)\n",
    "\n",
    "Joe = Member('Joe', 'Mr')\n",
    "print(Joe.firstname)\n",
    "print(Joe.lastname)\n",
    "print(Joe.expiry_date)\n",
    "\n",
    "\n"
   ]
  },
  {
   "cell_type": "code",
   "execution_count": null,
   "metadata": {},
   "outputs": [],
   "source": []
  }
 ],
 "metadata": {
  "interpreter": {
   "hash": "b89b5cfaba6639976dc87ff2fec6d58faec662063367e2c229c520fe71072417"
  },
  "kernelspec": {
   "display_name": "Python 3.10.2 64-bit",
   "language": "python",
   "name": "python3"
  },
  "language_info": {
   "codemirror_mode": {
    "name": "ipython",
    "version": 3
   },
   "file_extension": ".py",
   "mimetype": "text/x-python",
   "name": "python",
   "nbconvert_exporter": "python",
   "pygments_lexer": "ipython3",
   "version": "3.10.2"
  },
  "orig_nbformat": 4
 },
 "nbformat": 4,
 "nbformat_minor": 2
}
