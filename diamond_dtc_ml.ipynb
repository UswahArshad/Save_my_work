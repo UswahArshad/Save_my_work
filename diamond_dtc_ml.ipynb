{
 "cells": [
  {
   "cell_type": "code",
   "execution_count": 5,
   "metadata": {},
   "outputs": [],
   "source": [
    "import pandas as pd\n",
    "import numpy as np\n",
    "import matplotlib\n",
    "import matplotlib.pyplot as plt\n",
    "import seaborn as sb\n"
   ]
  },
  {
   "cell_type": "code",
   "execution_count": 2,
   "metadata": {},
   "outputs": [],
   "source": [
    "df = pd.read_csv('diamonds.csv')"
   ]
  },
  {
   "cell_type": "code",
   "execution_count": 3,
   "metadata": {},
   "outputs": [],
   "source": [
    "# incoding\n",
    "from sklearn.preprocessing import LabelEncoder\n",
    "le = LabelEncoder()\n",
    "\n",
    "df['cut'] = le.fit_transform(df['cut'] )\n",
    "df['color'] = le.fit_transform(df['color'] )\n",
    "df['clarity'] = le.fit_transform(df['clarity'] )"
   ]
  },
  {
   "cell_type": "code",
   "execution_count": 4,
   "metadata": {},
   "outputs": [],
   "source": [
    "X = df[['clarity', 'carat']]\n",
    "y = df.price"
   ]
  },
  {
   "cell_type": "code",
   "execution_count": 8,
   "metadata": {},
   "outputs": [
    {
     "name": "stdout",
     "output_type": "stream",
     "text": [
      "[552]\n"
     ]
    },
    {
     "name": "stderr",
     "output_type": "stream",
     "text": [
      "C:\\Users\\FineComputers\\AppData\\Roaming\\Python\\Python310\\site-packages\\sklearn\\base.py:450: UserWarning: X does not have valid feature names, but DecisionTreeClassifier was fitted with feature names\n",
      "  warnings.warn(\n"
     ]
    }
   ],
   "source": [
    "from sklearn.tree import DecisionTreeClassifier\n",
    "model = DecisionTreeClassifier()\n",
    "model.fit(X, y)\n",
    "\n",
    "pred = model.predict([[7, 0.24]])\n",
    "print(pred)"
   ]
  },
  {
   "cell_type": "code",
   "execution_count": 9,
   "metadata": {},
   "outputs": [],
   "source": [
    "from sklearn.metrics import accuracy_score"
   ]
  },
  {
   "cell_type": "code",
   "execution_count": 18,
   "metadata": {},
   "outputs": [
    {
     "name": "stdout",
     "output_type": "stream",
     "text": [
      "0.043010752688172046\n"
     ]
    }
   ],
   "source": [
    "from sklearn.model_selection import train_test_split\n",
    "X_train, X_test, y_train, y_test = train_test_split(X, y, test_size=0.5, random_state=0)\n",
    "model = DecisionTreeClassifier()\n",
    "model.fit(X_train, y_train)\n",
    "pred = model.predict(X_test)\n",
    "\n",
    "\n",
    "\n",
    "print(accuracy_score(y_test, pred))"
   ]
  },
  {
   "cell_type": "code",
   "execution_count": null,
   "metadata": {},
   "outputs": [],
   "source": []
  },
  {
   "cell_type": "code",
   "execution_count": 22,
   "metadata": {},
   "outputs": [
    {
     "ename": "TypeError",
     "evalue": "can only concatenate str (not \"numpy.int64\") to str",
     "output_type": "error",
     "traceback": [
      "\u001b[1;31m---------------------------------------------------------------------------\u001b[0m",
      "\u001b[1;31mTypeError\u001b[0m                                 Traceback (most recent call last)",
      "\u001b[1;32mc:\\Users\\FineComputers\\Desktop\\self_study_beginning\\diamond_dtc_ml.ipynb Cell 9'\u001b[0m in \u001b[0;36m<cell line: 4>\u001b[1;34m()\u001b[0m\n\u001b[0;32m      <a href='vscode-notebook-cell:/c%3A/Users/FineComputers/Desktop/self_study_beginning/diamond_dtc_ml.ipynb#ch0000008?line=0'>1</a>\u001b[0m \u001b[39mfrom\u001b[39;00m \u001b[39msklearn\u001b[39;00m \u001b[39mimport\u001b[39;00m tree\n\u001b[0;32m      <a href='vscode-notebook-cell:/c%3A/Users/FineComputers/Desktop/self_study_beginning/diamond_dtc_ml.ipynb#ch0000008?line=2'>3</a>\u001b[0m model \u001b[39m=\u001b[39m DecisionTreeClassifier()\u001b[39m.\u001b[39mfit(X, y)\n\u001b[1;32m----> <a href='vscode-notebook-cell:/c%3A/Users/FineComputers/Desktop/self_study_beginning/diamond_dtc_ml.ipynb#ch0000008?line=3'>4</a>\u001b[0m tree\u001b[39m.\u001b[39;49mexport_graphviz(model, \n\u001b[0;32m      <a href='vscode-notebook-cell:/c%3A/Users/FineComputers/Desktop/self_study_beginning/diamond_dtc_ml.ipynb#ch0000008?line=4'>5</a>\u001b[0m                      out_file\u001b[39m=\u001b[39;49m\u001b[39m'\u001b[39;49m\u001b[39mdiamonds.dot\u001b[39;49m\u001b[39m'\u001b[39;49m, \n\u001b[0;32m      <a href='vscode-notebook-cell:/c%3A/Users/FineComputers/Desktop/self_study_beginning/diamond_dtc_ml.ipynb#ch0000008?line=5'>6</a>\u001b[0m                      feature_names\u001b[39m=\u001b[39;49m[\u001b[39m'\u001b[39;49m\u001b[39mclarity\u001b[39;49m\u001b[39m'\u001b[39;49m,\u001b[39m'\u001b[39;49m\u001b[39mcarat\u001b[39;49m\u001b[39m'\u001b[39;49m], \n\u001b[0;32m      <a href='vscode-notebook-cell:/c%3A/Users/FineComputers/Desktop/self_study_beginning/diamond_dtc_ml.ipynb#ch0000008?line=6'>7</a>\u001b[0m                      class_names\u001b[39m=\u001b[39;49m\u001b[39msorted\u001b[39;49m(y\u001b[39m.\u001b[39;49munique()),\n\u001b[0;32m      <a href='vscode-notebook-cell:/c%3A/Users/FineComputers/Desktop/self_study_beginning/diamond_dtc_ml.ipynb#ch0000008?line=7'>8</a>\u001b[0m                      label\u001b[39m=\u001b[39;49m\u001b[39m'\u001b[39;49m\u001b[39mall\u001b[39;49m\u001b[39m'\u001b[39;49m,\n\u001b[0;32m      <a href='vscode-notebook-cell:/c%3A/Users/FineComputers/Desktop/self_study_beginning/diamond_dtc_ml.ipynb#ch0000008?line=8'>9</a>\u001b[0m                      rounded\u001b[39m=\u001b[39;49m\u001b[39mTrue\u001b[39;49;00m,\n\u001b[0;32m     <a href='vscode-notebook-cell:/c%3A/Users/FineComputers/Desktop/self_study_beginning/diamond_dtc_ml.ipynb#ch0000008?line=9'>10</a>\u001b[0m                      filled\u001b[39m=\u001b[39;49m\u001b[39mTrue\u001b[39;49;00m)\n",
      "File \u001b[1;32m~\\AppData\\Roaming\\Python\\Python310\\site-packages\\sklearn\\tree\\_export.py:889\u001b[0m, in \u001b[0;36mexport_graphviz\u001b[1;34m(decision_tree, out_file, max_depth, feature_names, class_names, label, filled, leaves_parallel, impurity, node_ids, proportion, rotate, rounded, special_characters, precision, fontname)\u001b[0m\n\u001b[0;32m    <a href='file:///c%3A/Users/FineComputers/AppData/Roaming/Python/Python310/site-packages/sklearn/tree/_export.py?line=869'>870</a>\u001b[0m     out_file \u001b[39m=\u001b[39m StringIO()\n\u001b[0;32m    <a href='file:///c%3A/Users/FineComputers/AppData/Roaming/Python/Python310/site-packages/sklearn/tree/_export.py?line=871'>872</a>\u001b[0m exporter \u001b[39m=\u001b[39m _DOTTreeExporter(\n\u001b[0;32m    <a href='file:///c%3A/Users/FineComputers/AppData/Roaming/Python/Python310/site-packages/sklearn/tree/_export.py?line=872'>873</a>\u001b[0m     out_file\u001b[39m=\u001b[39mout_file,\n\u001b[0;32m    <a href='file:///c%3A/Users/FineComputers/AppData/Roaming/Python/Python310/site-packages/sklearn/tree/_export.py?line=873'>874</a>\u001b[0m     max_depth\u001b[39m=\u001b[39mmax_depth,\n\u001b[1;32m   (...)\u001b[0m\n\u001b[0;32m    <a href='file:///c%3A/Users/FineComputers/AppData/Roaming/Python/Python310/site-packages/sklearn/tree/_export.py?line=886'>887</a>\u001b[0m     fontname\u001b[39m=\u001b[39mfontname,\n\u001b[0;32m    <a href='file:///c%3A/Users/FineComputers/AppData/Roaming/Python/Python310/site-packages/sklearn/tree/_export.py?line=887'>888</a>\u001b[0m )\n\u001b[1;32m--> <a href='file:///c%3A/Users/FineComputers/AppData/Roaming/Python/Python310/site-packages/sklearn/tree/_export.py?line=888'>889</a>\u001b[0m exporter\u001b[39m.\u001b[39;49mexport(decision_tree)\n\u001b[0;32m    <a href='file:///c%3A/Users/FineComputers/AppData/Roaming/Python/Python310/site-packages/sklearn/tree/_export.py?line=890'>891</a>\u001b[0m \u001b[39mif\u001b[39;00m return_string:\n\u001b[0;32m    <a href='file:///c%3A/Users/FineComputers/AppData/Roaming/Python/Python310/site-packages/sklearn/tree/_export.py?line=891'>892</a>\u001b[0m     \u001b[39mreturn\u001b[39;00m exporter\u001b[39m.\u001b[39mout_file\u001b[39m.\u001b[39mgetvalue()\n",
      "File \u001b[1;32m~\\AppData\\Roaming\\Python\\Python310\\site-packages\\sklearn\\tree\\_export.py:462\u001b[0m, in \u001b[0;36m_DOTTreeExporter.export\u001b[1;34m(self, decision_tree)\u001b[0m\n\u001b[0;32m    <a href='file:///c%3A/Users/FineComputers/AppData/Roaming/Python/Python310/site-packages/sklearn/tree/_export.py?line=459'>460</a>\u001b[0m     \u001b[39mself\u001b[39m\u001b[39m.\u001b[39mrecurse(decision_tree, \u001b[39m0\u001b[39m, criterion\u001b[39m=\u001b[39m\u001b[39m\"\u001b[39m\u001b[39mimpurity\u001b[39m\u001b[39m\"\u001b[39m)\n\u001b[0;32m    <a href='file:///c%3A/Users/FineComputers/AppData/Roaming/Python/Python310/site-packages/sklearn/tree/_export.py?line=460'>461</a>\u001b[0m \u001b[39melse\u001b[39;00m:\n\u001b[1;32m--> <a href='file:///c%3A/Users/FineComputers/AppData/Roaming/Python/Python310/site-packages/sklearn/tree/_export.py?line=461'>462</a>\u001b[0m     \u001b[39mself\u001b[39;49m\u001b[39m.\u001b[39;49mrecurse(decision_tree\u001b[39m.\u001b[39;49mtree_, \u001b[39m0\u001b[39;49m, criterion\u001b[39m=\u001b[39;49mdecision_tree\u001b[39m.\u001b[39;49mcriterion)\n\u001b[0;32m    <a href='file:///c%3A/Users/FineComputers/AppData/Roaming/Python/Python310/site-packages/sklearn/tree/_export.py?line=463'>464</a>\u001b[0m \u001b[39mself\u001b[39m\u001b[39m.\u001b[39mtail()\n",
      "File \u001b[1;32m~\\AppData\\Roaming\\Python\\Python310\\site-packages\\sklearn\\tree\\_export.py:521\u001b[0m, in \u001b[0;36m_DOTTreeExporter.recurse\u001b[1;34m(self, tree, node_id, criterion, parent, depth)\u001b[0m\n\u001b[0;32m    <a href='file:///c%3A/Users/FineComputers/AppData/Roaming/Python/Python310/site-packages/sklearn/tree/_export.py?line=516'>517</a>\u001b[0m \u001b[39melse\u001b[39;00m:\n\u001b[0;32m    <a href='file:///c%3A/Users/FineComputers/AppData/Roaming/Python/Python310/site-packages/sklearn/tree/_export.py?line=517'>518</a>\u001b[0m     \u001b[39mself\u001b[39m\u001b[39m.\u001b[39mranks[\u001b[39mstr\u001b[39m(depth)]\u001b[39m.\u001b[39mappend(\u001b[39mstr\u001b[39m(node_id))\n\u001b[0;32m    <a href='file:///c%3A/Users/FineComputers/AppData/Roaming/Python/Python310/site-packages/sklearn/tree/_export.py?line=519'>520</a>\u001b[0m \u001b[39mself\u001b[39m\u001b[39m.\u001b[39mout_file\u001b[39m.\u001b[39mwrite(\n\u001b[1;32m--> <a href='file:///c%3A/Users/FineComputers/AppData/Roaming/Python/Python310/site-packages/sklearn/tree/_export.py?line=520'>521</a>\u001b[0m     \u001b[39m\"\u001b[39m\u001b[39m%d\u001b[39;00m\u001b[39m [label=\u001b[39m\u001b[39m%s\u001b[39;00m\u001b[39m\"\u001b[39m \u001b[39m%\u001b[39m (node_id, \u001b[39mself\u001b[39;49m\u001b[39m.\u001b[39;49mnode_to_str(tree, node_id, criterion))\n\u001b[0;32m    <a href='file:///c%3A/Users/FineComputers/AppData/Roaming/Python/Python310/site-packages/sklearn/tree/_export.py?line=521'>522</a>\u001b[0m )\n\u001b[0;32m    <a href='file:///c%3A/Users/FineComputers/AppData/Roaming/Python/Python310/site-packages/sklearn/tree/_export.py?line=523'>524</a>\u001b[0m \u001b[39mif\u001b[39;00m \u001b[39mself\u001b[39m\u001b[39m.\u001b[39mfilled:\n\u001b[0;32m    <a href='file:///c%3A/Users/FineComputers/AppData/Roaming/Python/Python310/site-packages/sklearn/tree/_export.py?line=524'>525</a>\u001b[0m     \u001b[39mself\u001b[39m\u001b[39m.\u001b[39mout_file\u001b[39m.\u001b[39mwrite(\n\u001b[0;32m    <a href='file:///c%3A/Users/FineComputers/AppData/Roaming/Python/Python310/site-packages/sklearn/tree/_export.py?line=525'>526</a>\u001b[0m         \u001b[39m'\u001b[39m\u001b[39m, fillcolor=\u001b[39m\u001b[39m\"\u001b[39m\u001b[39m%s\u001b[39;00m\u001b[39m\"\u001b[39m\u001b[39m'\u001b[39m \u001b[39m%\u001b[39m \u001b[39mself\u001b[39m\u001b[39m.\u001b[39mget_fill_color(tree, node_id)\n\u001b[0;32m    <a href='file:///c%3A/Users/FineComputers/AppData/Roaming/Python/Python310/site-packages/sklearn/tree/_export.py?line=526'>527</a>\u001b[0m     )\n",
      "File \u001b[1;32m~\\AppData\\Roaming\\Python\\Python310\\site-packages\\sklearn\\tree\\_export.py:374\u001b[0m, in \u001b[0;36m_BaseTreeExporter.node_to_str\u001b[1;34m(self, tree, node_id, criterion)\u001b[0m\n\u001b[0;32m    <a href='file:///c%3A/Users/FineComputers/AppData/Roaming/Python/Python310/site-packages/sklearn/tree/_export.py?line=367'>368</a>\u001b[0m     \u001b[39melse\u001b[39;00m:\n\u001b[0;32m    <a href='file:///c%3A/Users/FineComputers/AppData/Roaming/Python/Python310/site-packages/sklearn/tree/_export.py?line=368'>369</a>\u001b[0m         class_name \u001b[39m=\u001b[39m \u001b[39m\"\u001b[39m\u001b[39my\u001b[39m\u001b[39m%s\u001b[39;00m\u001b[39m%s\u001b[39;00m\u001b[39m%s\u001b[39;00m\u001b[39m\"\u001b[39m \u001b[39m%\u001b[39m (\n\u001b[0;32m    <a href='file:///c%3A/Users/FineComputers/AppData/Roaming/Python/Python310/site-packages/sklearn/tree/_export.py?line=369'>370</a>\u001b[0m             characters[\u001b[39m1\u001b[39m],\n\u001b[0;32m    <a href='file:///c%3A/Users/FineComputers/AppData/Roaming/Python/Python310/site-packages/sklearn/tree/_export.py?line=370'>371</a>\u001b[0m             np\u001b[39m.\u001b[39margmax(value),\n\u001b[0;32m    <a href='file:///c%3A/Users/FineComputers/AppData/Roaming/Python/Python310/site-packages/sklearn/tree/_export.py?line=371'>372</a>\u001b[0m             characters[\u001b[39m2\u001b[39m],\n\u001b[0;32m    <a href='file:///c%3A/Users/FineComputers/AppData/Roaming/Python/Python310/site-packages/sklearn/tree/_export.py?line=372'>373</a>\u001b[0m         )\n\u001b[1;32m--> <a href='file:///c%3A/Users/FineComputers/AppData/Roaming/Python/Python310/site-packages/sklearn/tree/_export.py?line=373'>374</a>\u001b[0m     node_string \u001b[39m+\u001b[39m\u001b[39m=\u001b[39m class_name\n\u001b[0;32m    <a href='file:///c%3A/Users/FineComputers/AppData/Roaming/Python/Python310/site-packages/sklearn/tree/_export.py?line=375'>376</a>\u001b[0m \u001b[39m# Clean up any trailing newlines\u001b[39;00m\n\u001b[0;32m    <a href='file:///c%3A/Users/FineComputers/AppData/Roaming/Python/Python310/site-packages/sklearn/tree/_export.py?line=376'>377</a>\u001b[0m \u001b[39mif\u001b[39;00m node_string\u001b[39m.\u001b[39mendswith(characters[\u001b[39m4\u001b[39m]):\n",
      "\u001b[1;31mTypeError\u001b[0m: can only concatenate str (not \"numpy.int64\") to str"
     ]
    }
   ],
   "source": [
    "from sklearn import tree\n",
    "\n",
    "model = DecisionTreeClassifier().fit(X, y)\n",
    "tree.export_graphviz(model, \n",
    "                     out_file='diamonds.dot', \n",
    "                     feature_names=['clarity','carat'], \n",
    "                     class_names=sorted(y.unique()),\n",
    "                     label='all',\n",
    "                     rounded=True,\n",
    "                     filled=True)"
   ]
  },
  {
   "cell_type": "code",
   "execution_count": null,
   "metadata": {},
   "outputs": [],
   "source": []
  }
 ],
 "metadata": {
  "interpreter": {
   "hash": "b89b5cfaba6639976dc87ff2fec6d58faec662063367e2c229c520fe71072417"
  },
  "kernelspec": {
   "display_name": "Python 3.10.2 64-bit",
   "language": "python",
   "name": "python3"
  },
  "language_info": {
   "codemirror_mode": {
    "name": "ipython",
    "version": 3
   },
   "file_extension": ".py",
   "mimetype": "text/x-python",
   "name": "python",
   "nbconvert_exporter": "python",
   "pygments_lexer": "ipython3",
   "version": "3.10.2"
  },
  "orig_nbformat": 4
 },
 "nbformat": 4,
 "nbformat_minor": 2
}
