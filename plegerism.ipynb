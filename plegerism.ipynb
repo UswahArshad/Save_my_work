{
 "cells": [
  {
   "cell_type": "code",
   "execution_count": 6,
   "metadata": {},
   "outputs": [],
   "source": [
    "import re\n",
    "import nltk\n",
    "from nltk.util import ngrams, pad_sequence, everygrams\n",
    "from nltk.tokenize import word_tokenize\n",
    "from nltk.lm import MLE, WittenBellInterpolated\n",
    "import numpy as np\n",
    "import plotly.graph_objects as go\n",
    "from scipy.ndimage import gaussian_filter\n",
    "import PyPDF2 as pdf"
   ]
  },
  {
   "cell_type": "code",
   "execution_count": 3,
   "metadata": {},
   "outputs": [],
   "source": [
    "# Training data file\n",
    "train_data_file = \"trial25.txt\"\n",
    "# read training data\n",
    "with open(train_data_file) as f:\n",
    "    train_text = f.read().lower()\n"
   ]
  },
  {
   "cell_type": "code",
   "execution_count": 4,
   "metadata": {},
   "outputs": [],
   "source": [
    "# apply preprocessing (remove text inside square and curly brackets and rem punc)\n",
    "train_text = re.sub(r\"\\[.*\\]|\\{.*\\}\", \"\", train_text)\n",
    "train_text = re.sub(r'[^\\w\\s]', \"\", train_text)"
   ]
  },
  {
   "cell_type": "code",
   "execution_count": 7,
   "metadata": {},
   "outputs": [
    {
     "name": "stderr",
     "output_type": "stream",
     "text": [
      "[nltk_data] Downloading package punkt to\n",
      "[nltk_data]     C:\\Users\\FineComputers\\AppData\\Roaming\\nltk_data...\n",
      "[nltk_data]   Unzipping tokenizers\\punkt.zip.\n"
     ]
    },
    {
     "data": {
      "text/plain": [
       "True"
      ]
     },
     "execution_count": 7,
     "metadata": {},
     "output_type": "execute_result"
    }
   ],
   "source": [
    "nltk.download('punkt')"
   ]
  },
  {
   "cell_type": "code",
   "execution_count": 8,
   "metadata": {},
   "outputs": [
    {
     "name": "stdout",
     "output_type": "stream",
     "text": [
      "Number of ngrams: 1590\n"
     ]
    }
   ],
   "source": [
    "# set ngram number\n",
    "n = 4\n",
    "\n",
    "# pad the text and tokenize\n",
    "training_data = list(pad_sequence(word_tokenize(train_text), n, \n",
    "                                  pad_left=True, \n",
    "                                  left_pad_symbol=\"<s>\"))\n",
    "\n",
    "# generate ngrams\n",
    "ngrams = list(everygrams(training_data, max_len=n))\n",
    "print(\"Number of ngrams:\", len(ngrams))"
   ]
  },
  {
   "cell_type": "code",
   "execution_count": 9,
   "metadata": {},
   "outputs": [
    {
     "name": "stdout",
     "output_type": "stream",
     "text": [
      "<Vocabulary with cutoff=1 unk_label='<UNK>' and 228 items>\n"
     ]
    }
   ],
   "source": [
    "\n",
    "# build ngram language models\n",
    "model = WittenBellInterpolated(n)\n",
    "model.fit([ngrams], vocabulary_text=training_data)\n",
    "print(model.vocab)"
   ]
  },
  {
   "cell_type": "code",
   "execution_count": 10,
   "metadata": {},
   "outputs": [],
   "source": [
    "# testing data file\n",
    "test_data_file = \"trial25.txt\"\n",
    "\n",
    "# Read testing data\n",
    "with open(test_data_file) as f:\n",
    "    test_text = f.read().lower()\n",
    "test_text = re.sub(r'[^\\w\\s]', \"\", test_text)"
   ]
  },
  {
   "cell_type": "code",
   "execution_count": 11,
   "metadata": {},
   "outputs": [
    {
     "name": "stdout",
     "output_type": "stream",
     "text": [
      "Length of test data: 404\n"
     ]
    }
   ],
   "source": [
    "# Tokenize and pad the text\n",
    "testing_data = list(pad_sequence(word_tokenize(test_text), n, \n",
    "                                 pad_left=True,\n",
    "                                 left_pad_symbol=\"<s>\"))\n",
    "print(\"Length of test data:\", len(testing_data))\n",
    "\n",
    "# assign scores\n",
    "scores = []\n",
    "for i, item in enumerate(testing_data[n-1:]):\n",
    "    s = model.score(item, testing_data[i:i+n-1])\n",
    "    scores.append(s)\n",
    "\n",
    "scores_np = np.array(scores)"
   ]
  },
  {
   "cell_type": "code",
   "execution_count": 12,
   "metadata": {},
   "outputs": [
    {
     "name": "stdout",
     "output_type": "stream",
     "text": [
      "Width, Height: 8 , 51\n"
     ]
    },
    {
     "data": {
      "application/vnd.plotly.v1+json": {
       "config": {
        "plotlyServerURL": "https://plot.ly"
       },
       "data": [
        {
         "colorscale": [
          [
           0,
           "rgb(255, 198, 196)"
          ],
          [
           0.16666666666666666,
           "rgb(244, 163, 168)"
          ],
          [
           0.3333333333333333,
           "rgb(227, 129, 145)"
          ],
          [
           0.5,
           "rgb(204, 96, 125)"
          ],
          [
           0.6666666666666666,
           "rgb(173, 70, 108)"
          ],
          [
           0.8333333333333334,
           "rgb(139, 48, 88)"
          ],
          [
           1,
           "rgb(103, 32, 68)"
          ]
         ],
         "customdata": [
          [
           "abstract",
           "the",
           "particular",
           "interest",
           "of",
           "this",
           "work",
           "will"
          ],
          [
           "be",
           "concerned",
           "with",
           "the",
           "numerical",
           "investigation",
           "of",
           "caputo"
          ],
          [
           "time",
           "fractional",
           "bretherton",
           "equation",
           "involving",
           "quadratic",
           "and",
           "cubic"
          ],
          [
           "nonlinear",
           "ities",
           "this",
           "mathematical",
           "model",
           "describes",
           "one",
           "dimensional"
          ],
          [
           "dispersive",
           "waves",
           "interact",
           "ing",
           "through",
           "nonlinear",
           "terms",
           "subject"
          ],
          [
           "to",
           "the",
           "suitable",
           "time",
           "invariant",
           "boundary",
           "conditions",
           "the"
          ],
          [
           "time",
           "period",
           "of",
           "oscillations",
           "will",
           "be",
           "dependent",
           "on"
          ],
          [
           "the",
           "initial",
           "conditions",
           "but",
           "finite",
           "in",
           "general",
           "the"
          ],
          [
           "caputoâs",
           "definition",
           "of",
           "the",
           "fractional",
           "derivative",
           "supports",
           "initial"
          ],
          [
           "con",
           "ditions",
           "given",
           "in",
           "terms",
           "of",
           "integerorder",
           "derivatives"
          ],
          [
           "representing",
           "wellunderstood",
           "fea",
           "tures",
           "of",
           "physical",
           "situations",
           "and"
          ],
          [
           "thus",
           "making",
           "it",
           "more",
           "applicable",
           "to",
           "real",
           "world"
          ],
          [
           "problems",
           "therefore",
           "we",
           "shall",
           "use",
           "this",
           "version",
           "to"
          ],
          [
           "address",
           "the",
           "time",
           "fractional",
           "derivative",
           "at",
           "first",
           "a"
          ],
          [
           "semidiscretized",
           "form",
           "of",
           "the",
           "governing",
           "equation",
           "will",
           "be"
          ],
          [
           "obtained",
           "by",
           "using",
           "secondorder",
           "centeral",
           "difference",
           "approximation",
           "together"
          ],
          [
           "with",
           "thetaweighted",
           "scheme",
           "along",
           "temporal",
           "direction",
           "to",
           "approximate"
          ],
          [
           "the",
           "solution",
           "curve",
           "in",
           "spatial",
           "direction",
           "quintic",
           "bspline"
          ],
          [
           "ap",
           "proximations",
           "will",
           "be",
           "employed",
           "some",
           "numerical",
           "experiments"
          ],
          [
           "will",
           "be",
           "presented",
           "to",
           "show",
           "the",
           "accuracy",
           "and"
          ],
          [
           "effectiveness",
           "of",
           "the",
           "proposed",
           "numerical",
           "algorithm",
           "need",
           "of"
          ],
          [
           "the",
           "project",
           "a",
           "differential",
           "equation",
           "is",
           "an",
           "equation"
          ],
          [
           "that",
           "relates",
           "one",
           "or",
           "more",
           "variables",
           "and",
           "their"
          ],
          [
           "derivatives",
           "these",
           "variables",
           "commonly",
           "represent",
           "physical",
           "quantities",
           "the"
          ],
          [
           "derivatives",
           "represent",
           "their",
           "rates",
           "of",
           "change",
           "and",
           "the"
          ],
          [
           "differential",
           "equation",
           "describes",
           "a",
           "relationship",
           "be",
           "tween",
           "them"
          ],
          [
           "55",
           "such",
           "relations",
           "are",
           "common",
           "therefore",
           "differential",
           "equations"
          ],
          [
           "have",
           "a",
           "remarkable",
           "ability",
           "to",
           "predict",
           "the",
           "world"
          ],
          [
           "applications",
           "of",
           "differential",
           "equations",
           "in",
           "real",
           "life",
           "are"
          ],
          [
           "used",
           "to",
           "explain",
           "the",
           "concepts",
           "of",
           "thermodynamics",
           "physicsighenergy"
          ],
          [
           "physics",
           "fluid",
           "dynamics",
           "plasma",
           "physics",
           "condensed",
           "matter",
           "physics"
          ],
          [
           "solid",
           "state",
           "physics",
           "chemi",
           "cal",
           "kinematics",
           "chemical",
           "physics"
          ],
          [
           "and",
           "geochemistry",
           "10",
           "also",
           "in",
           "medical",
           "terms",
           "they"
          ],
          [
           "are",
           "used",
           "to",
           "model",
           "biological",
           "processes",
           "on",
           "various"
          ],
          [
           "levels",
           "ranging",
           "from",
           "dna",
           "molecules",
           "or",
           "biosynthesis",
           "phospholipids"
          ],
          [
           "on",
           "the",
           "cellular",
           "level",
           "22",
           "in",
           "recent",
           "years"
          ],
          [
           "the",
           "subject",
           "of",
           "fractional",
           "differential",
           "equations",
           "is",
           "gaining"
          ],
          [
           "much",
           "impor",
           "tance",
           "and",
           "attention",
           "the",
           "socalled",
           "fractional"
          ],
          [
           "differential",
           "equations",
           "are",
           "specified",
           "by",
           "gen",
           "eralizing",
           "the"
          ],
          [
           "standard",
           "integer",
           "order",
           "derivative",
           "to",
           "arbitrary",
           "order",
           "due"
          ],
          [
           "to",
           "the",
           "effective",
           "memory",
           "function",
           "of",
           "fractional",
           "derivatives"
          ],
          [
           "32",
           "fractional",
           "differential",
           "equations",
           "have",
           "been",
           "widely",
           "used"
          ],
          [
           "to",
           "describe",
           "many",
           "physical",
           "phenomena",
           "the",
           "bretherton",
           "equation"
          ],
          [
           "is",
           "one",
           "of",
           "the",
           "recently",
           "studied",
           "nonlinear",
           "evolution"
          ],
          [
           "equa",
           "tions",
           "introduced",
           "by",
           "a",
           "british",
           "physicist",
           "francis"
          ],
          [
           "bretherton",
           "5",
           "in",
           "1964",
           "this",
           "mathe",
           "1",
           "matical"
          ],
          [
           "model",
           "equation",
           "arises",
           "in",
           "the",
           "study",
           "of",
           "weakly"
          ],
          [
           "interacting",
           "waves",
           "in",
           "dispersive",
           "medium",
           "it",
           "has",
           "been"
          ],
          [
           "used",
           "to",
           "study",
           "the",
           "interaction",
           "of",
           "harmonics",
           "by"
          ],
          [
           "nonlinear",
           "resonance",
           "the",
           "generalized",
           "bretherton",
           "equation",
           "is",
           "given"
          ],
          [
           "as",
           "",
           "",
           "",
           "",
           "",
           "",
           ""
          ]
         ],
         "dx": 1,
         "hovertemplate": "%{customdata} <br><b>Score:%{z:.3f}<extra></extra>",
         "type": "heatmap",
         "x0": 0,
         "y": [
          "abstract the particular interest of this work will          ",
          "be concerned with the numerical investigation of caputo     ",
          "time fractional bretherton equation involving quadratic and ",
          "nonlinear ities this mathematical model describes one dimens",
          "dispersive waves interact ing through nonlinear terms subjec",
          "to the suitable time invariant boundary conditions the      ",
          "time period of oscillations will be dependent on            ",
          "the initial conditions but finite in general the            ",
          "caputoâs definition of the fractional derivative supports in",
          "con ditions given in terms of integerorder derivatives      ",
          "representing wellunderstood fea tures of physical situations",
          "thus making it more applicable to real world                ",
          "problems therefore we shall use this version to             ",
          "address the time fractional derivative at first a           ",
          "semidiscretized form of the governing equation will be      ",
          "obtained by using secondorder centeral difference approximat",
          "with thetaweighted scheme along temporal direction to approx",
          "the solution curve in spatial direction quintic bspline     ",
          "ap proximations will be employed some numerical experiments ",
          "will be presented to show the accuracy and                  ",
          "effectiveness of the proposed numerical algorithm need of   ",
          "the project a differential equation is an equation          ",
          "that relates one or more variables and their                ",
          "derivatives these variables commonly represent physical quan",
          "derivatives represent their rates of change and the         ",
          "differential equation describes a relationship be tween them",
          "55 such relations are common therefore differential equation",
          "have a remarkable ability to predict the world              ",
          "applications of differential equations in real life are     ",
          "used to explain the concepts of thermodynamics physicsighene",
          "physics fluid dynamics plasma physics condensed matter physi",
          "solid state physics chemi cal kinematics chemical physics   ",
          "and geochemistry 10 also in medical terms they              ",
          "are used to model biological processes on various           ",
          "levels ranging from dna molecules or biosynthesis phospholip",
          "on the cellular level 22 in recent years                    ",
          "the subject of fractional differential equations is gaining ",
          "much impor tance and attention the socalled fractional      ",
          "differential equations are specified by gen eralizing the   ",
          "standard integer order derivative to arbitrary order due    ",
          "to the effective memory function of fractional derivatives  ",
          "32 fractional differential equations have been widely used  ",
          "to describe many physical phenomena the bretherton equation ",
          "is one of the recently studied nonlinear evolution          ",
          "equa tions introduced by a british physicist francis        ",
          "bretherton 5 in 1964 this mathe 1 matical                   ",
          "model equation arises in the study of weakly                ",
          "interacting waves in dispersive medium it has been          ",
          "used to study the interaction of harmonics by               ",
          "nonlinear resonance the generalized bretherton equation is g",
          "as                                                          "
         ],
         "z": [
          [
           0.7424738973409611,
           0.7902720152273118,
           0.8173540936065631,
           0.8402863481018857,
           0.83779753659993,
           0.807566983662777,
           0.813652948762505,
           0.8507181379520974
          ],
          [
           0.8295735685175243,
           0.7704443689507525,
           0.7863655345042893,
           0.8042028743991181,
           0.7926883173663213,
           0.8050600003359863,
           0.822062906825934,
           0.8214541423511811
          ],
          [
           0.8225489488155852,
           0.7925869552944296,
           0.7580817536218436,
           0.7550716105389887,
           0.7587502301735805,
           0.8059274802508043,
           0.8356671535087508,
           0.8270258365296504
          ],
          [
           0.8267798177293724,
           0.8275207314498867,
           0.8295523518959034,
           0.8284518058494601,
           0.8287154291934286,
           0.8177967391833627,
           0.8097279272248341,
           0.8190455573420699
          ],
          [
           0.8331436571766249,
           0.8306724289418755,
           0.8349629212783358,
           0.8564496955244849,
           0.8664870177593156,
           0.848112861054419,
           0.8146484867069752,
           0.7991789438273658
          ],
          [
           0.7902865246924069,
           0.758338496800255,
           0.74618826483736,
           0.7892859256425556,
           0.8259890736328912,
           0.849253080145624,
           0.8502949950359311,
           0.8140015902177863
          ],
          [
           0.7643201008877705,
           0.7540755481708639,
           0.7912443439817931,
           0.8214599847624431,
           0.8507631643044059,
           0.8290131413803166,
           0.7718166083019532,
           0.7884712574273591
          ],
          [
           0.7891014555379148,
           0.7533672788102719,
           0.7750595098301258,
           0.8216669421801988,
           0.8503717618184664,
           0.8456512643831035,
           0.8267844431944417,
           0.8227097214992487
          ],
          [
           0.8232025349570701,
           0.8418848214222634,
           0.8350691610589298,
           0.7637372447443822,
           0.6999145475155236,
           0.7119630967128812,
           0.7522174864782147,
           0.8042015646620921
          ],
          [
           0.8385497035569025,
           0.8556096240966841,
           0.8511926820225657,
           0.8196994068531815,
           0.7914818296159956,
           0.7855575814195025,
           0.7988462924651097,
           0.8201035575363902
          ],
          [
           0.8314921609168251,
           0.8521594075105504,
           0.8699859593212785,
           0.8694833711402707,
           0.8447471156029241,
           0.8097450830246138,
           0.8089606695563127,
           0.8237302885275117
          ],
          [
           0.8277448126995812,
           0.845546167990054,
           0.8512288614737977,
           0.8346554927091246,
           0.82973778912871,
           0.8270271576489263,
           0.8086508296864741,
           0.8074746597856867
          ],
          [
           0.8258935878688722,
           0.8413303482184571,
           0.8467814563729048,
           0.859557386239375,
           0.8670976070703574,
           0.8524077367117324,
           0.8328232360165339,
           0.826342383185934
          ],
          [
           0.8205217012167224,
           0.8124824754854963,
           0.7706082735069868,
           0.7162381169287433,
           0.6944409597643214,
           0.7323562391271252,
           0.807983890613788,
           0.8394515007850091
          ],
          [
           0.834665978553494,
           0.8468889722582544,
           0.8364236284000693,
           0.7682373255075367,
           0.7247262408897943,
           0.7721407887251068,
           0.8196946374016056,
           0.8077315865838985
          ],
          [
           0.7636114863848793,
           0.7834499472744436,
           0.8220739574647622,
           0.8513423736213686,
           0.8702151154077069,
           0.8748909459755918,
           0.8750406597493134,
           0.8720146433349706
          ],
          [
           0.860315050144381,
           0.8504551638908959,
           0.8602004675776345,
           0.8716801460702044,
           0.8714189729992937,
           0.854997781748822,
           0.8241169984219421,
           0.810980564076824
          ],
          [
           0.8186459742616604,
           0.8225142315471456,
           0.8407332550077138,
           0.8426936367186701,
           0.8277620221177084,
           0.8335485517265192,
           0.8444673829363087,
           0.8597316369045344
          ],
          [
           0.8723230175715702,
           0.8785077067025359,
           0.8796227232790144,
           0.8353787532236228,
           0.7739404036618333,
           0.8019044627507746,
           0.8397451987986009,
           0.8443546092939886
          ],
          [
           0.8594598356492482,
           0.8305719242459695,
           0.7685975867993318,
           0.7798863394646426,
           0.8100290977530336,
           0.820313279442654,
           0.8177897645826785,
           0.8208599958628845
          ],
          [
           0.8222833091275423,
           0.8154572552298187,
           0.7628930040247749,
           0.7247865994339611,
           0.7738575608284198,
           0.8244886465689711,
           0.8494862146980163,
           0.8372747436516612
          ],
          [
           0.7682754060917039,
           0.7242722066466678,
           0.7659235090745875,
           0.7905186380659056,
           0.7614132587444857,
           0.7119380958523555,
           0.7146784458455768,
           0.7763484133672954
          ],
          [
           0.8178031493213,
           0.8437003660984396,
           0.8460212067724966,
           0.8231819418254591,
           0.8116332404910618,
           0.8102557160147144,
           0.8027675664127356,
           0.7944172532815635
          ],
          [
           0.7984028150652471,
           0.8136661699590315,
           0.8335565059157211,
           0.8414732880834959,
           0.840457498395584,
           0.8270534512098464,
           0.8219401304608565,
           0.8208388617971403
          ],
          [
           0.7986473158617153,
           0.7908009071437476,
           0.8061071310129642,
           0.824680830482101,
           0.829875532471267,
           0.8209890351715079,
           0.8171901682048852,
           0.7965987747675023
          ],
          [
           0.7742758791510141,
           0.7540482424167607,
           0.7391212736167618,
           0.7659428881209058,
           0.8023951074634341,
           0.8181958081745682,
           0.7772567398796348,
           0.5891422403829156
          ],
          [
           0.2885357246187541,
           0.2173121373611409,
           0.43307139282539564,
           0.662939988975209,
           0.7826158661564817,
           0.8305116913215278,
           0.8357226200308441,
           0.7900860888081009
          ],
          [
           0.6790218710407683,
           0.6257198451170105,
           0.7180244524815611,
           0.8213058695634494,
           0.841606975826311,
           0.8253252349997202,
           0.8187161814040739,
           0.8079110808842522
          ],
          [
           0.8163161454242748,
           0.8273934440148589,
           0.8139346386200863,
           0.7760698393285919,
           0.7255648255911269,
           0.7452205770476552,
           0.8055181919555826,
           0.843051026893137
          ],
          [
           0.8431511843764992,
           0.7655635642161244,
           0.6702135179601075,
           0.7204813177834375,
           0.7948407925898482,
           0.8180324716208713,
           0.8231680673663426,
           0.8417824713559395
          ],
          [
           0.8453359855426879,
           0.8351989837314382,
           0.8507926862446114,
           0.8648240015057103,
           0.8511652199963424,
           0.8353332474653359,
           0.8460880740252292,
           0.8462146794200288
          ],
          [
           0.8349036120733438,
           0.8460745232552183,
           0.846222508771187,
           0.8352793078884848,
           0.8511628358444767,
           0.8695381876411222,
           0.869283875416235,
           0.8422766789780622
          ],
          [
           0.7593705103675068,
           0.5483102514841768,
           0.2625087720680892,
           0.20226787459947437,
           0.3868649372290647,
           0.5934621380144103,
           0.7476459890376211,
           0.8194711140179187
          ],
          [
           0.8437260358478502,
           0.8421559860658362,
           0.7612246440961061,
           0.6547952274920703,
           0.7131845406671156,
           0.8218986043327471,
           0.8504711736774555,
           0.8450760692675598
          ],
          [
           0.8571729401407808,
           0.8712633845312857,
           0.8749737237685149,
           0.8750431606881475,
           0.8720147271887454,
           0.8603153449282981,
           0.8503739288932299,
           0.8582701677501607
          ],
          [
           0.854341930188747,
           0.8044426841056149,
           0.7218466476416021,
           0.5534754913253552,
           0.2617009202347753,
           0.11745442631553028,
           0.2648711412753588,
           0.5728190272120289
          ],
          [
           0.7676727655443925,
           0.7985066922451622,
           0.7878899818948772,
           0.7698273147033321,
           0.7564657263616572,
           0.6964622434129539,
           0.6089135208648734,
           0.6890343127487907
          ],
          [
           0.8190316626473619,
           0.8671080559204873,
           0.8695039002391574,
           0.8500320433151061,
           0.8285014820998158,
           0.8234969666810188,
           0.8211996198842129,
           0.8344423291531715
          ],
          [
           0.8296810612934042,
           0.7325161516509839,
           0.616837910829634,
           0.6865324975887273,
           0.7978339248222235,
           0.8304520764981482,
           0.8476757891724788,
           0.8443799862906862
          ],
          [
           0.8286123929746678,
           0.8429998917713516,
           0.8491891958074408,
           0.8246729048646289,
           0.8005927934479298,
           0.8038104581824149,
           0.8278381382380915,
           0.8385215513709354
          ],
          [
           0.824717573972224,
           0.7753141372094766,
           0.7542697454563367,
           0.8105814047464562,
           0.8560013685607317,
           0.8342694868779534,
           0.7281135528585088,
           0.49868922932323634
          ],
          [
           0.22579364575504446,
           0.16262225514359102,
           0.3535657463195768,
           0.5301218480156973,
           0.5150268747282769,
           0.5516212408135115,
           0.7180115981890658,
           0.8366854786143919
          ],
          [
           0.8275534790634647,
           0.7727911172917128,
           0.8021059202834684,
           0.8393615912641903,
           0.8364075585486473,
           0.8289304867267965,
           0.816120761931802,
           0.787318057746716
          ],
          [
           0.6887628094064528,
           0.6152070175515328,
           0.6781068381288805,
           0.7207411801486447,
           0.7224672338232048,
           0.7885022741287765,
           0.8353668464695636,
           0.8367103339486739
          ],
          [
           0.8526281256209503,
           0.8698832074585794,
           0.8696881424307557,
           0.8478949700472596,
           0.8144426601027159,
           0.8129751007059434,
           0.8421836449924824,
           0.8185837871734829
          ],
          [
           0.6137466039951607,
           0.27523518473248537,
           0.11826069666026494,
           0.2604009569690101,
           0.5556602987140116,
           0.7601000290371364,
           0.8419162279934788,
           0.864893857233584
          ],
          [
           0.8497078248592091,
           0.816808522236589,
           0.8074594391516476,
           0.8143356487114557,
           0.796043575766108,
           0.7819854194461618,
           0.7896042672148131,
           0.8077549111494351
          ],
          [
           0.83982767961358,
           0.8481052456194662,
           0.8207399382730372,
           0.8012125246243944,
           0.8170261747741976,
           0.8386981782096792,
           0.8436310470667902,
           0.8479151653238174
          ],
          [
           0.8493576529303951,
           0.8141693028896129,
           0.750558974683478,
           0.755201198277593,
           0.7931503010931049,
           0.8153998607236024,
           0.8181021970723611,
           0.8197458705177778
          ],
          [
           0.8094564228434189,
           0.8104710820718333,
           0.8217883201143774,
           0.8234721079185822,
           0.8375479699214474,
           0.8098334357560713,
           0.6918594905846115,
           0.5736507755574265
          ],
          [
           0.45679356067203963,
           0.21980907314578188,
           0.04560279731577073,
           0.003651152263100173,
           0.0001087793093868883,
           0,
           0,
           0
          ]
         ],
         "zmax": 1,
         "zmin": 0
        }
       ],
       "layout": {
        "font": {
         "family": "Courier New"
        },
        "height": 1428,
        "template": {
         "data": {
          "bar": [
           {
            "error_x": {
             "color": "#2a3f5f"
            },
            "error_y": {
             "color": "#2a3f5f"
            },
            "marker": {
             "line": {
              "color": "#E5ECF6",
              "width": 0.5
             },
             "pattern": {
              "fillmode": "overlay",
              "size": 10,
              "solidity": 0.2
             }
            },
            "type": "bar"
           }
          ],
          "barpolar": [
           {
            "marker": {
             "line": {
              "color": "#E5ECF6",
              "width": 0.5
             },
             "pattern": {
              "fillmode": "overlay",
              "size": 10,
              "solidity": 0.2
             }
            },
            "type": "barpolar"
           }
          ],
          "carpet": [
           {
            "aaxis": {
             "endlinecolor": "#2a3f5f",
             "gridcolor": "white",
             "linecolor": "white",
             "minorgridcolor": "white",
             "startlinecolor": "#2a3f5f"
            },
            "baxis": {
             "endlinecolor": "#2a3f5f",
             "gridcolor": "white",
             "linecolor": "white",
             "minorgridcolor": "white",
             "startlinecolor": "#2a3f5f"
            },
            "type": "carpet"
           }
          ],
          "choropleth": [
           {
            "colorbar": {
             "outlinewidth": 0,
             "ticks": ""
            },
            "type": "choropleth"
           }
          ],
          "contour": [
           {
            "colorbar": {
             "outlinewidth": 0,
             "ticks": ""
            },
            "colorscale": [
             [
              0,
              "#0d0887"
             ],
             [
              0.1111111111111111,
              "#46039f"
             ],
             [
              0.2222222222222222,
              "#7201a8"
             ],
             [
              0.3333333333333333,
              "#9c179e"
             ],
             [
              0.4444444444444444,
              "#bd3786"
             ],
             [
              0.5555555555555556,
              "#d8576b"
             ],
             [
              0.6666666666666666,
              "#ed7953"
             ],
             [
              0.7777777777777778,
              "#fb9f3a"
             ],
             [
              0.8888888888888888,
              "#fdca26"
             ],
             [
              1,
              "#f0f921"
             ]
            ],
            "type": "contour"
           }
          ],
          "contourcarpet": [
           {
            "colorbar": {
             "outlinewidth": 0,
             "ticks": ""
            },
            "type": "contourcarpet"
           }
          ],
          "heatmap": [
           {
            "colorbar": {
             "outlinewidth": 0,
             "ticks": ""
            },
            "colorscale": [
             [
              0,
              "#0d0887"
             ],
             [
              0.1111111111111111,
              "#46039f"
             ],
             [
              0.2222222222222222,
              "#7201a8"
             ],
             [
              0.3333333333333333,
              "#9c179e"
             ],
             [
              0.4444444444444444,
              "#bd3786"
             ],
             [
              0.5555555555555556,
              "#d8576b"
             ],
             [
              0.6666666666666666,
              "#ed7953"
             ],
             [
              0.7777777777777778,
              "#fb9f3a"
             ],
             [
              0.8888888888888888,
              "#fdca26"
             ],
             [
              1,
              "#f0f921"
             ]
            ],
            "type": "heatmap"
           }
          ],
          "heatmapgl": [
           {
            "colorbar": {
             "outlinewidth": 0,
             "ticks": ""
            },
            "colorscale": [
             [
              0,
              "#0d0887"
             ],
             [
              0.1111111111111111,
              "#46039f"
             ],
             [
              0.2222222222222222,
              "#7201a8"
             ],
             [
              0.3333333333333333,
              "#9c179e"
             ],
             [
              0.4444444444444444,
              "#bd3786"
             ],
             [
              0.5555555555555556,
              "#d8576b"
             ],
             [
              0.6666666666666666,
              "#ed7953"
             ],
             [
              0.7777777777777778,
              "#fb9f3a"
             ],
             [
              0.8888888888888888,
              "#fdca26"
             ],
             [
              1,
              "#f0f921"
             ]
            ],
            "type": "heatmapgl"
           }
          ],
          "histogram": [
           {
            "marker": {
             "pattern": {
              "fillmode": "overlay",
              "size": 10,
              "solidity": 0.2
             }
            },
            "type": "histogram"
           }
          ],
          "histogram2d": [
           {
            "colorbar": {
             "outlinewidth": 0,
             "ticks": ""
            },
            "colorscale": [
             [
              0,
              "#0d0887"
             ],
             [
              0.1111111111111111,
              "#46039f"
             ],
             [
              0.2222222222222222,
              "#7201a8"
             ],
             [
              0.3333333333333333,
              "#9c179e"
             ],
             [
              0.4444444444444444,
              "#bd3786"
             ],
             [
              0.5555555555555556,
              "#d8576b"
             ],
             [
              0.6666666666666666,
              "#ed7953"
             ],
             [
              0.7777777777777778,
              "#fb9f3a"
             ],
             [
              0.8888888888888888,
              "#fdca26"
             ],
             [
              1,
              "#f0f921"
             ]
            ],
            "type": "histogram2d"
           }
          ],
          "histogram2dcontour": [
           {
            "colorbar": {
             "outlinewidth": 0,
             "ticks": ""
            },
            "colorscale": [
             [
              0,
              "#0d0887"
             ],
             [
              0.1111111111111111,
              "#46039f"
             ],
             [
              0.2222222222222222,
              "#7201a8"
             ],
             [
              0.3333333333333333,
              "#9c179e"
             ],
             [
              0.4444444444444444,
              "#bd3786"
             ],
             [
              0.5555555555555556,
              "#d8576b"
             ],
             [
              0.6666666666666666,
              "#ed7953"
             ],
             [
              0.7777777777777778,
              "#fb9f3a"
             ],
             [
              0.8888888888888888,
              "#fdca26"
             ],
             [
              1,
              "#f0f921"
             ]
            ],
            "type": "histogram2dcontour"
           }
          ],
          "mesh3d": [
           {
            "colorbar": {
             "outlinewidth": 0,
             "ticks": ""
            },
            "type": "mesh3d"
           }
          ],
          "parcoords": [
           {
            "line": {
             "colorbar": {
              "outlinewidth": 0,
              "ticks": ""
             }
            },
            "type": "parcoords"
           }
          ],
          "pie": [
           {
            "automargin": true,
            "type": "pie"
           }
          ],
          "scatter": [
           {
            "fillpattern": {
             "fillmode": "overlay",
             "size": 10,
             "solidity": 0.2
            },
            "type": "scatter"
           }
          ],
          "scatter3d": [
           {
            "line": {
             "colorbar": {
              "outlinewidth": 0,
              "ticks": ""
             }
            },
            "marker": {
             "colorbar": {
              "outlinewidth": 0,
              "ticks": ""
             }
            },
            "type": "scatter3d"
           }
          ],
          "scattercarpet": [
           {
            "marker": {
             "colorbar": {
              "outlinewidth": 0,
              "ticks": ""
             }
            },
            "type": "scattercarpet"
           }
          ],
          "scattergeo": [
           {
            "marker": {
             "colorbar": {
              "outlinewidth": 0,
              "ticks": ""
             }
            },
            "type": "scattergeo"
           }
          ],
          "scattergl": [
           {
            "marker": {
             "colorbar": {
              "outlinewidth": 0,
              "ticks": ""
             }
            },
            "type": "scattergl"
           }
          ],
          "scattermapbox": [
           {
            "marker": {
             "colorbar": {
              "outlinewidth": 0,
              "ticks": ""
             }
            },
            "type": "scattermapbox"
           }
          ],
          "scatterpolar": [
           {
            "marker": {
             "colorbar": {
              "outlinewidth": 0,
              "ticks": ""
             }
            },
            "type": "scatterpolar"
           }
          ],
          "scatterpolargl": [
           {
            "marker": {
             "colorbar": {
              "outlinewidth": 0,
              "ticks": ""
             }
            },
            "type": "scatterpolargl"
           }
          ],
          "scatterternary": [
           {
            "marker": {
             "colorbar": {
              "outlinewidth": 0,
              "ticks": ""
             }
            },
            "type": "scatterternary"
           }
          ],
          "surface": [
           {
            "colorbar": {
             "outlinewidth": 0,
             "ticks": ""
            },
            "colorscale": [
             [
              0,
              "#0d0887"
             ],
             [
              0.1111111111111111,
              "#46039f"
             ],
             [
              0.2222222222222222,
              "#7201a8"
             ],
             [
              0.3333333333333333,
              "#9c179e"
             ],
             [
              0.4444444444444444,
              "#bd3786"
             ],
             [
              0.5555555555555556,
              "#d8576b"
             ],
             [
              0.6666666666666666,
              "#ed7953"
             ],
             [
              0.7777777777777778,
              "#fb9f3a"
             ],
             [
              0.8888888888888888,
              "#fdca26"
             ],
             [
              1,
              "#f0f921"
             ]
            ],
            "type": "surface"
           }
          ],
          "table": [
           {
            "cells": {
             "fill": {
              "color": "#EBF0F8"
             },
             "line": {
              "color": "white"
             }
            },
            "header": {
             "fill": {
              "color": "#C8D4E3"
             },
             "line": {
              "color": "white"
             }
            },
            "type": "table"
           }
          ]
         },
         "layout": {
          "annotationdefaults": {
           "arrowcolor": "#2a3f5f",
           "arrowhead": 0,
           "arrowwidth": 1
          },
          "autotypenumbers": "strict",
          "coloraxis": {
           "colorbar": {
            "outlinewidth": 0,
            "ticks": ""
           }
          },
          "colorscale": {
           "diverging": [
            [
             0,
             "#8e0152"
            ],
            [
             0.1,
             "#c51b7d"
            ],
            [
             0.2,
             "#de77ae"
            ],
            [
             0.3,
             "#f1b6da"
            ],
            [
             0.4,
             "#fde0ef"
            ],
            [
             0.5,
             "#f7f7f7"
            ],
            [
             0.6,
             "#e6f5d0"
            ],
            [
             0.7,
             "#b8e186"
            ],
            [
             0.8,
             "#7fbc41"
            ],
            [
             0.9,
             "#4d9221"
            ],
            [
             1,
             "#276419"
            ]
           ],
           "sequential": [
            [
             0,
             "#0d0887"
            ],
            [
             0.1111111111111111,
             "#46039f"
            ],
            [
             0.2222222222222222,
             "#7201a8"
            ],
            [
             0.3333333333333333,
             "#9c179e"
            ],
            [
             0.4444444444444444,
             "#bd3786"
            ],
            [
             0.5555555555555556,
             "#d8576b"
            ],
            [
             0.6666666666666666,
             "#ed7953"
            ],
            [
             0.7777777777777778,
             "#fb9f3a"
            ],
            [
             0.8888888888888888,
             "#fdca26"
            ],
            [
             1,
             "#f0f921"
            ]
           ],
           "sequentialminus": [
            [
             0,
             "#0d0887"
            ],
            [
             0.1111111111111111,
             "#46039f"
            ],
            [
             0.2222222222222222,
             "#7201a8"
            ],
            [
             0.3333333333333333,
             "#9c179e"
            ],
            [
             0.4444444444444444,
             "#bd3786"
            ],
            [
             0.5555555555555556,
             "#d8576b"
            ],
            [
             0.6666666666666666,
             "#ed7953"
            ],
            [
             0.7777777777777778,
             "#fb9f3a"
            ],
            [
             0.8888888888888888,
             "#fdca26"
            ],
            [
             1,
             "#f0f921"
            ]
           ]
          },
          "colorway": [
           "#636efa",
           "#EF553B",
           "#00cc96",
           "#ab63fa",
           "#FFA15A",
           "#19d3f3",
           "#FF6692",
           "#B6E880",
           "#FF97FF",
           "#FECB52"
          ],
          "font": {
           "color": "#2a3f5f"
          },
          "geo": {
           "bgcolor": "white",
           "lakecolor": "white",
           "landcolor": "#E5ECF6",
           "showlakes": true,
           "showland": true,
           "subunitcolor": "white"
          },
          "hoverlabel": {
           "align": "left"
          },
          "hovermode": "closest",
          "mapbox": {
           "style": "light"
          },
          "paper_bgcolor": "white",
          "plot_bgcolor": "#E5ECF6",
          "polar": {
           "angularaxis": {
            "gridcolor": "white",
            "linecolor": "white",
            "ticks": ""
           },
           "bgcolor": "#E5ECF6",
           "radialaxis": {
            "gridcolor": "white",
            "linecolor": "white",
            "ticks": ""
           }
          },
          "scene": {
           "xaxis": {
            "backgroundcolor": "#E5ECF6",
            "gridcolor": "white",
            "gridwidth": 2,
            "linecolor": "white",
            "showbackground": true,
            "ticks": "",
            "zerolinecolor": "white"
           },
           "yaxis": {
            "backgroundcolor": "#E5ECF6",
            "gridcolor": "white",
            "gridwidth": 2,
            "linecolor": "white",
            "showbackground": true,
            "ticks": "",
            "zerolinecolor": "white"
           },
           "zaxis": {
            "backgroundcolor": "#E5ECF6",
            "gridcolor": "white",
            "gridwidth": 2,
            "linecolor": "white",
            "showbackground": true,
            "ticks": "",
            "zerolinecolor": "white"
           }
          },
          "shapedefaults": {
           "line": {
            "color": "#2a3f5f"
           }
          },
          "ternary": {
           "aaxis": {
            "gridcolor": "white",
            "linecolor": "white",
            "ticks": ""
           },
           "baxis": {
            "gridcolor": "white",
            "linecolor": "white",
            "ticks": ""
           },
           "bgcolor": "#E5ECF6",
           "caxis": {
            "gridcolor": "white",
            "linecolor": "white",
            "ticks": ""
           }
          },
          "title": {
           "x": 0.05
          },
          "xaxis": {
           "automargin": true,
           "gridcolor": "white",
           "linecolor": "white",
           "ticks": "",
           "title": {
            "standoff": 15
           },
           "zerolinecolor": "white",
           "zerolinewidth": 2
          },
          "yaxis": {
           "automargin": true,
           "gridcolor": "white",
           "linecolor": "white",
           "ticks": "",
           "title": {
            "standoff": 15
           },
           "zerolinecolor": "white",
           "zerolinewidth": 2
          }
         }
        },
        "width": 1000,
        "yaxis": {
         "autorange": "reversed"
        }
       }
      }
     },
     "metadata": {},
     "output_type": "display_data"
    }
   ],
   "source": [
    "# set width and height\n",
    "width = 8\n",
    "height = np.ceil(len(testing_data)/width).astype(\"int32\")\n",
    "print(\"Width, Height:\", width, \",\", height)\n",
    "\n",
    "# copy scores to rectangular blank array\n",
    "a = np.zeros(width*height)\n",
    "a[:len(scores_np)] = scores_np\n",
    "diff = len(a) - len(scores_np)\n",
    "\n",
    "# apply gaussian smoothing for aesthetics\n",
    "a = gaussian_filter(a, sigma=1.0)\n",
    "\n",
    "# reshape to fit rectangle\n",
    "a = a.reshape(-1, width)\n",
    "\n",
    "# format labels\n",
    "labels = [\" \".join(testing_data[i:i+width]) for i in range(n-1, len(testing_data), width)]\n",
    "labels_individual = [x.split() for x in labels]\n",
    "labels_individual[-1] += [\"\"]*diff\n",
    "labels = [f\"{x:60.60}\" for x in labels]\n",
    "\n",
    "# create heatmap\n",
    "fig = go.Figure(data=go.Heatmap(\n",
    "                z=a, x0=0, dx=1,\n",
    "                y=labels, zmin=0, zmax=1,\n",
    "                customdata=labels_individual,\n",
    "                hovertemplate='%{customdata} <br><b>Score:%{z:.3f}<extra></extra>',\n",
    "                colorscale=\"burg\"))\n",
    "fig.update_layout({\"height\":height*28, \"width\":1000, \"font\":{\"family\":\"Courier New\"}})\n",
    "fig['layout']['yaxis']['autorange'] = \"reversed\"\n",
    "fig.show()"
   ]
  },
  {
   "cell_type": "code",
   "execution_count": null,
   "metadata": {},
   "outputs": [],
   "source": []
  }
 ],
 "metadata": {
  "interpreter": {
   "hash": "b89b5cfaba6639976dc87ff2fec6d58faec662063367e2c229c520fe71072417"
  },
  "kernelspec": {
   "display_name": "Python 3.10.2 64-bit",
   "language": "python",
   "name": "python3"
  },
  "language_info": {
   "codemirror_mode": {
    "name": "ipython",
    "version": 3
   },
   "file_extension": ".py",
   "mimetype": "text/x-python",
   "name": "python",
   "nbconvert_exporter": "python",
   "pygments_lexer": "ipython3",
   "version": "3.10.2"
  },
  "orig_nbformat": 4
 },
 "nbformat": 4,
 "nbformat_minor": 2
}
