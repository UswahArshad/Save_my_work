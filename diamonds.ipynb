{
 "cells": [
  {
   "cell_type": "code",
   "execution_count": 2,
   "metadata": {},
   "outputs": [
    {
     "name": "stderr",
     "output_type": "stream",
     "text": [
      "Downloading...\n",
      "From: https://www.kaggle.com/shivam2503/diamonds\n",
      "To: c:\\Users\\FineComputers\\Desktop\\self_study_beginning\\diamonds\n",
      "15.2kB [00:00, 1.10MB/s]\n"
     ]
    },
    {
     "data": {
      "text/plain": [
       "'diamonds'"
      ]
     },
     "execution_count": 2,
     "metadata": {},
     "output_type": "execute_result"
    }
   ],
   "source": [
    "# import gdown\n",
    "# gdown.download('https://www.kaggle.com/shivam2503/diamonds')"
   ]
  },
  {
   "cell_type": "code",
   "execution_count": 3,
   "metadata": {},
   "outputs": [],
   "source": [
    "import pandas as pd\n",
    "import numpy as np\n"
   ]
  },
  {
   "cell_type": "code",
   "execution_count": 4,
   "metadata": {},
   "outputs": [
    {
     "name": "stdout",
     "output_type": "stream",
     "text": [
      "   Unnamed: 0  carat        cut color clarity  depth  table  price     x  \\\n",
      "0           1   0.23      Ideal     E     SI2   61.5   55.0    326  3.95   \n",
      "1           2   0.21    Premium     E     SI1   59.8   61.0    326  3.89   \n",
      "2           3   0.23       Good     E     VS1   56.9   65.0    327  4.05   \n",
      "3           4   0.29    Premium     I     VS2   62.4   58.0    334  4.20   \n",
      "4           5   0.31       Good     J     SI2   63.3   58.0    335  4.34   \n",
      "5           6   0.24  Very Good     J    VVS2   62.8   57.0    336  3.94   \n",
      "6           7   0.24  Very Good     I    VVS1   62.3   57.0    336  3.95   \n",
      "7           8   0.26  Very Good     H     SI1   61.9   55.0    337  4.07   \n",
      "8           9   0.22       Fair     E     VS2   65.1   61.0    337  3.87   \n",
      "9          10   0.23  Very Good     H     VS1   59.4   61.0    338  4.00   \n",
      "\n",
      "      y     z  \n",
      "0  3.98  2.43  \n",
      "1  3.84  2.31  \n",
      "2  4.07  2.31  \n",
      "3  4.23  2.63  \n",
      "4  4.35  2.75  \n",
      "5  3.96  2.48  \n",
      "6  3.98  2.47  \n",
      "7  4.11  2.53  \n",
      "8  3.78  2.49  \n",
      "9  4.05  2.39  \n",
      "\n"
     ]
    }
   ],
   "source": [
    "# build a DataFrame from the data\n",
    "df = pd.read_csv('diamonds.csv')\n",
    "print (df.head(10))\n",
    "print()\n"
   ]
  },
  {
   "cell_type": "code",
   "execution_count": 5,
   "metadata": {},
   "outputs": [
    {
     "name": "stdout",
     "output_type": "stream",
     "text": [
      "Total $ Value of Diamonds: $212,135,217.00\n",
      "Mean $ Value of Diamonds: $3,932.80\n"
     ]
    }
   ],
   "source": [
    "# calculate total value of diamonds\n",
    "sum = df.price.sum()\n",
    "print (\"Total $ Value of Diamonds: ${:0,.2f}\".format( sum))\n",
    "# calculate mean price of diamonds\n",
    "mean = df.price.mean()\n",
    "print (\"Mean $ Value of Diamonds: ${:0,.2f}\".format(mean))\n"
   ]
  },
  {
   "cell_type": "code",
   "execution_count": 6,
   "metadata": {},
   "outputs": [
    {
     "name": "stdout",
     "output_type": "stream",
     "text": [
      "\n",
      "count    53940.000000\n",
      "mean         0.797940\n",
      "std          0.474011\n",
      "min          0.200000\n",
      "25%          0.400000\n",
      "50%          0.700000\n",
      "75%          1.040000\n",
      "max          5.010000\n",
      "Name: carat, dtype: float64\n",
      "\n",
      "          cut  color clarity\n",
      "count   53940  53940   53940\n",
      "unique      5      7       8\n",
      "top     Ideal      G     SI1\n",
      "freq    21551  11292   13065\n"
     ]
    }
   ],
   "source": [
    "# summarize the data\n",
    "descrip = df.carat.describe()\n",
    "print()\n",
    "print (descrip)\n",
    "descrip = df.describe(include='object')\n",
    "print()\n",
    "print (descrip)"
   ]
  },
  {
   "cell_type": "code",
   "execution_count": 7,
   "metadata": {},
   "outputs": [
    {
     "data": {
      "image/png": "[encoded data removed]",
      "text/plain": [
       "<Figure size 432x288 with 1 Axes>"
      ]
     },
     "metadata": {
      "needs_background": "light"
     },
     "output_type": "display_data"
    }
   ],
   "source": [
    "import matplotlib.pyplot as plt\n",
    "carat = df.carat\n",
    "clarity = df.clarity\n",
    "plt.scatter(clarity, carat)\n",
    "plt.show() # or plt.savefig(\"name.png\")"
   ]
  },
  {
   "cell_type": "code",
   "execution_count": 8,
   "metadata": {},
   "outputs": [
    {
     "name": "stdout",
     "output_type": "stream",
     "text": [
      "['SI1', 'VS2', 'SI2', 'VS1', 'VVS2', 'VVS1', 'IF', 'I1']\n",
      "[13065, 12258, 9194, 8171, 5066, 3655, 1790, 741]\n"
     ]
    }
   ],
   "source": [
    "# count the number of each textual type of clarity\n",
    "clarityindexes = df['clarity'].value_counts().index.tolist()\n",
    "claritycount= df['clarity'].value_counts().values.tolist()\n",
    "print(clarityindexes)\n",
    "print(claritycount)"
   ]
  },
  {
   "cell_type": "code",
   "execution_count": 9,
   "metadata": {},
   "outputs": [
    {
     "data": {
      "image/png": "[encoded data removed]",
      "text/plain": [
       "<Figure size 432x288 with 1 Axes>"
      ]
     },
     "metadata": {
      "needs_background": "light"
     },
     "output_type": "display_data"
    }
   ],
   "source": [
    "plt.bar(clarityindexes, claritycount)\n",
    "plt.show() # or plt.savefig(\"name.png\")"
   ]
  },
  {
   "cell_type": "code",
   "execution_count": 10,
   "metadata": {},
   "outputs": [
    {
     "name": "stdout",
     "output_type": "stream",
     "text": [
      "['G', 'E', 'F', 'H', 'D', 'I', 'J']\n",
      "[11292, 9797, 9542, 8304, 6775, 5422, 2808]\n"
     ]
    },
    {
     "data": {
      "image/png": "[encoded data removed]",
      "text/plain": [
       "<Figure size 432x288 with 1 Axes>"
      ]
     },
     "metadata": {
      "needs_background": "light"
     },
     "output_type": "display_data"
    }
   ],
   "source": [
    "# count the number of each textual type of color\n",
    "colorindexes = df['color'].value_counts().index.tolist()\n",
    "colorcount= df['color'].value_counts().values.tolist()\n",
    "print(colorindexes)\n",
    "print(colorcount)\n",
    "plt.bar(colorindexes, colorcount)\n",
    "plt.show() # or plt.savefig(\"name.png\")"
   ]
  },
  {
   "cell_type": "code",
   "execution_count": 11,
   "metadata": {},
   "outputs": [
    {
     "name": "stdout",
     "output_type": "stream",
     "text": [
      "          carat     depth     table     price         x         y         z\n",
      "carat  1.000000  0.028224  0.181618  0.921591  0.975094  0.951722  0.953387\n",
      "depth  0.028224  1.000000 -0.295779 -0.010647 -0.025289 -0.029341  0.094924\n",
      "table  0.181618 -0.295779  1.000000  0.127134  0.195344  0.183760  0.150929\n",
      "price  0.921591 -0.010647  0.127134  1.000000  0.884435  0.865421  0.861249\n",
      "x      0.975094 -0.025289  0.195344  0.884435  1.000000  0.974701  0.970772\n",
      "y      0.951722 -0.029341  0.183760  0.865421  0.974701  1.000000  0.952006\n",
      "z      0.953387  0.094924  0.150929  0.861249  0.970772  0.952006  1.000000\n"
     ]
    },
    {
     "name": "stderr",
     "output_type": "stream",
     "text": [
      "C:\\Program Files\\KMSpico\\temp\\ipykernel_9328\\2811385674.py:7: DeprecationWarning: `np.bool` is a deprecated alias for the builtin `bool`. To silence this warning, use `bool` by itself. Doing this will not modify any behavior and is safe. If you specifically wanted the numpy scalar type, use `np.bool_` here.\n",
      "Deprecated in NumPy 1.20; for more details and guidance: https://numpy.org/devdocs/release/1.20.0-notes.html#deprecations\n",
      "  sns.heatmap(corr, mask=np.zeros_like(corr, dtype=np.bool),\n"
     ]
    },
    {
     "data": {
      "image/png": "[encoded data removed]",
      "text/plain": [
       "<Figure size 720x576 with 2 Axes>"
      ]
     },
     "metadata": {
      "needs_background": "light"
     },
     "output_type": "display_data"
    }
   ],
   "source": [
    "import seaborn as sns\n",
    "# drop the index column\n",
    "df = df.drop('Unnamed: 0', axis=1)\n",
    "f, ax = plt.subplots(figsize=(10, 8))\n",
    "corr = df.corr()\n",
    "print (corr)\n",
    "sns.heatmap(corr, mask=np.zeros_like(corr, dtype=np.bool),\n",
    " cmap=sns.diverging_palette(220, 10, as_cmap=True),\n",
    " square=True, ax=ax)\n",
    "plt.show()"
   ]
  },
  {
   "cell_type": "code",
   "execution_count": null,
   "metadata": {},
   "outputs": [],
   "source": []
  }
 ],
 "metadata": {
  "interpreter": {
   "hash": "b89b5cfaba6639976dc87ff2fec6d58faec662063367e2c229c520fe71072417"
  },
  "kernelspec": {
   "display_name": "Python 3.10.2 64-bit",
   "language": "python",
   "name": "python3"
  },
  "language_info": {
   "codemirror_mode": {
    "name": "ipython",
    "version": 3
   },
   "file_extension": ".py",
   "mimetype": "text/x-python",
   "name": "python",
   "nbconvert_exporter": "python",
   "pygments_lexer": "ipython3",
   "version": "3.10.2"
  },
  "orig_nbformat": 4
 },
 "nbformat": 4,
 "nbformat_minor": 2
}
